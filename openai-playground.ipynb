{
 "cells": [
  {
   "cell_type": "markdown",
   "id": "da169bc3",
   "metadata": {},
   "source": [
    "# OpenAI API Playground"
   ]
  },
  {
   "cell_type": "markdown",
   "id": "45e53758",
   "metadata": {},
   "source": [
    "Reference \n",
    "--\n",
    "[OpenAI quickstart](https://platform.openai.com/docs/quickstart?context=python)<br>\n",
    "[ChatGPT](https://chat.openai.com/)"
   ]
  },
  {
   "cell_type": "markdown",
   "id": "9fa9233c",
   "metadata": {},
   "source": [
    "Spend\n",
    "--\n",
    "[OpenAI Usage](https://platform.openai.com/usage)"
   ]
  },
  {
   "cell_type": "markdown",
   "id": "0bd6abf3",
   "metadata": {},
   "source": [
    "## Dependencies"
   ]
  },
  {
   "cell_type": "code",
   "execution_count": 1,
   "id": "7668b72e",
   "metadata": {
    "collapsed": true,
    "jupyter": {
     "outputs_hidden": true
    }
   },
   "outputs": [
    {
     "name": "stdout",
     "output_type": "stream",
     "text": [
      "Defaulting to user installation because normal site-packages is not writeable\n",
      "Collecting openai\n",
      "  Downloading openai-1.8.0-py3-none-any.whl (222 kB)\n",
      "\u001b[2K     \u001b[38;2;114;156;31m━━━━━━━━━━━━━━━━━━━━━━━━━━━━━━━━━━━━━\u001b[0m \u001b[32m222.3/222.3 KB\u001b[0m \u001b[31m685.4 kB/s\u001b[0m eta \u001b[36m0:00:00\u001b[0m[31m1.1 MB/s\u001b[0m eta \u001b[36m0:00:01\u001b[0m\n",
      "\u001b[?25hCollecting httpx<1,>=0.23.0\n",
      "  Downloading httpx-0.26.0-py3-none-any.whl (75 kB)\n",
      "\u001b[2K     \u001b[38;2;114;156;31m━━━━━━━━━━━━━━━━━━━━━━━━━━━━━━━━━━━━━━━━\u001b[0m \u001b[32m75.9/75.9 KB\u001b[0m \u001b[31m2.2 MB/s\u001b[0m eta \u001b[36m0:00:00\u001b[0m\n",
      "\u001b[?25hRequirement already satisfied: distro<2,>=1.7.0 in /usr/lib/python3/dist-packages (from openai) (1.7.0)\n",
      "Collecting tqdm>4\n",
      "  Downloading tqdm-4.66.1-py3-none-any.whl (78 kB)\n",
      "\u001b[2K     \u001b[38;2;114;156;31m━━━━━━━━━━━━━━━━━━━━━━━━━━━━━━━━━━━━━━━━\u001b[0m \u001b[32m78.3/78.3 KB\u001b[0m \u001b[31m1.6 MB/s\u001b[0m eta \u001b[36m0:00:00\u001b[0m[31m5.3 MB/s\u001b[0m eta \u001b[36m0:00:01\u001b[0m\n",
      "\u001b[?25hCollecting pydantic<3,>=1.9.0\n",
      "  Downloading pydantic-2.5.3-py3-none-any.whl (381 kB)\n",
      "\u001b[2K     \u001b[38;2;114;156;31m━━━━━━━━━━━━━━━━━━━━━━━━━━━━━━━━━━━━━━━\u001b[0m \u001b[32m381.9/381.9 KB\u001b[0m \u001b[31m3.4 MB/s\u001b[0m eta \u001b[36m0:00:00\u001b[0mm eta \u001b[36m0:00:01\u001b[0m0:01\u001b[0m\n",
      "\u001b[?25hCollecting typing-extensions<5,>=4.7\n",
      "  Downloading typing_extensions-4.9.0-py3-none-any.whl (32 kB)\n",
      "Collecting sniffio\n",
      "  Downloading sniffio-1.3.0-py3-none-any.whl (10 kB)\n",
      "Collecting anyio<5,>=3.5.0\n",
      "  Downloading anyio-4.2.0-py3-none-any.whl (85 kB)\n",
      "\u001b[2K     \u001b[38;2;114;156;31m━━━━━━━━━━━━━━━━━━━━━━━━━━━━━━━━━━━━━━━━\u001b[0m \u001b[32m85.5/85.5 KB\u001b[0m \u001b[31m1.7 MB/s\u001b[0m eta \u001b[36m0:00:00\u001b[0m MB/s\u001b[0m eta \u001b[36m0:00:01\u001b[0m\n",
      "\u001b[?25hCollecting exceptiongroup>=1.0.2\n",
      "  Downloading exceptiongroup-1.2.0-py3-none-any.whl (16 kB)\n",
      "Requirement already satisfied: idna>=2.8 in /usr/lib/python3/dist-packages (from anyio<5,>=3.5.0->openai) (3.3)\n",
      "Collecting httpcore==1.*\n",
      "  Downloading httpcore-1.0.2-py3-none-any.whl (76 kB)\n",
      "\u001b[2K     \u001b[38;2;114;156;31m━━━━━━━━━━━━━━━━━━━━━━━━━━━━━━━━━━━━━━━━\u001b[0m \u001b[32m76.9/76.9 KB\u001b[0m \u001b[31m2.1 MB/s\u001b[0m eta \u001b[36m0:00:00\u001b[0m\n",
      "\u001b[?25hRequirement already satisfied: certifi in /usr/lib/python3/dist-packages (from httpx<1,>=0.23.0->openai) (2020.6.20)\n",
      "Collecting h11<0.15,>=0.13\n",
      "  Downloading h11-0.14.0-py3-none-any.whl (58 kB)\n",
      "\u001b[2K     \u001b[38;2;114;156;31m━━━━━━━━━━━━━━━━━━━━━━━━━━━━━━━━━━━━━━━━\u001b[0m \u001b[32m58.3/58.3 KB\u001b[0m \u001b[31m2.0 MB/s\u001b[0m eta \u001b[36m0:00:00\u001b[0m\n",
      "\u001b[?25hCollecting annotated-types>=0.4.0\n",
      "  Downloading annotated_types-0.6.0-py3-none-any.whl (12 kB)\n",
      "Collecting pydantic-core==2.14.6\n",
      "  Downloading pydantic_core-2.14.6-cp310-cp310-manylinux_2_17_x86_64.manylinux2014_x86_64.whl (2.1 MB)\n",
      "\u001b[2K     \u001b[38;2;114;156;31m━━━━━━━━━━━━━━━━━━━━━━━━━━━━━━━━━━━━━━━━\u001b[0m \u001b[32m2.1/2.1 MB\u001b[0m \u001b[31m4.2 MB/s\u001b[0m eta \u001b[36m0:00:00\u001b[0mm eta \u001b[36m0:00:01\u001b[0m0:01\u001b[0m:01\u001b[0mm\n",
      "\u001b[?25hInstalling collected packages: typing-extensions, tqdm, sniffio, h11, exceptiongroup, annotated-types, pydantic-core, httpcore, anyio, pydantic, httpx, openai\n",
      "Successfully installed annotated-types-0.6.0 anyio-4.2.0 exceptiongroup-1.2.0 h11-0.14.0 httpcore-1.0.2 httpx-0.26.0 openai-1.8.0 pydantic-2.5.3 pydantic-core-2.14.6 sniffio-1.3.0 tqdm-4.66.1 typing-extensions-4.9.0\n",
      "Note: you may need to restart the kernel to use updated packages.\n"
     ]
    }
   ],
   "source": [
    "# Dependencies\n",
    "%pip install --upgrade openai"
   ]
  },
  {
   "cell_type": "markdown",
   "id": "b0013937-306b-457d-8d8d-93aa7054bfa9",
   "metadata": {},
   "source": [
    "## Azure OpenAI Endpoints"
   ]
  },
  {
   "cell_type": "code",
   "execution_count": 1,
   "id": "371f0cc2",
   "metadata": {},
   "outputs": [],
   "source": [
    "# Endpoints\n",
    "azure_speech = \"https://rayganplayi5130184145.cognitiveservices.azure.com/\"\n",
    "azure_contentsafety = \"https://rayganplayi5130184145.cognitiveservices.azure.com/\"\n",
    "azure_openai_ep = \"https://rayganplayi5130184145.openai.azure.com/\""
   ]
  },
  {
   "cell_type": "code",
   "execution_count": null,
   "id": "5babe8dc",
   "metadata": {},
   "outputs": [],
   "source": [
    "# snips from example learn.microsoft.com\n",
    "import openai\n",
    "openai.api_key = '' # removed for privacy\n",
    "openai.api_base = azure_openai_ep\n",
    "openai.api_type = 'azure'\n",
    "openai.api_version = '2023-05-15' # this might change in the future\n",
    "deployment_name = "
   ]
  },
  {
   "cell_type": "markdown",
   "id": "add16a83-a654-4da0-97a1-76360a86924c",
   "metadata": {},
   "source": [
    "## OpenAI Endpoints"
   ]
  },
  {
   "cell_type": "code",
   "execution_count": 1,
   "id": "788c1ab9",
   "metadata": {},
   "outputs": [],
   "source": [
    "# example from OpenAI API Quickstart\n",
    "import openai"
   ]
  },
  {
   "cell_type": "code",
   "execution_count": 2,
   "id": "b610e86a",
   "metadata": {},
   "outputs": [],
   "source": [
    "# NOTE: the api_key should be passed as an environment variable.\n",
    "client = openai.OpenAI()"
   ]
  },
  {
   "cell_type": "markdown",
   "id": "f7735f53-63cf-4493-a93d-1640eb888d51",
   "metadata": {},
   "source": [
    "## GraphViz generation playground"
   ]
  },
  {
   "cell_type": "code",
   "execution_count": 3,
   "id": "c749bb73-e416-4ad8-9eac-8032dae11c61",
   "metadata": {},
   "outputs": [],
   "source": [
    "personality = \"You deliver raw code without commentary.\""
   ]
  },
  {
   "cell_type": "code",
   "execution_count": 4,
   "id": "1a3d31d3-33f6-4671-b239-e9603c677de2",
   "metadata": {},
   "outputs": [],
   "source": [
    "request = \"\"\"Write GraphViz DOT instructions to display a box inside of a box. Each with labels.\n",
    "\n",
    "Output code only in the GraphViz DOT language.\"\"\""
   ]
  },
  {
   "cell_type": "code",
   "execution_count": 5,
   "id": "6fc3ead3-0ec2-453a-bc8a-2132ccf9251c",
   "metadata": {},
   "outputs": [],
   "source": [
    "completion = client.chat.completions.create(\n",
    "  model=\"gpt-3.5-turbo\",\n",
    "  messages=[\n",
    "    {\"role\": \"system\", \"content\": personality},\n",
    "    {\"role\": \"user\", \"content\": request}\n",
    "  ]\n",
    ")"
   ]
  },
  {
   "cell_type": "code",
   "execution_count": 12,
   "id": "137bfe46-7c39-43f8-a379-9d229295b7f4",
   "metadata": {},
   "outputs": [
    {
     "name": "stdout",
     "output_type": "stream",
     "text": [
      "```dot\n",
      "digraph {\n",
      "    graph [rankdir=LR]\n",
      "    \n",
      "    subgraph cluster_outer {\n",
      "        label=\"Outer Box\"\n",
      "        style=\"rounded\"\n",
      "        \n",
      "        subgraph cluster_inner {\n",
      "            label=\"Inner Box\"\n",
      "            style=\"rounded\"\n",
      "            \n",
      "            A [label=\"Node A\"]\n",
      "            B [label=\"Node B\"]\n",
      "        }\n",
      "    }\n",
      "}\n",
      "```\n"
     ]
    }
   ],
   "source": [
    "print(completion.choices[0].message.content)"
   ]
  },
  {
   "cell_type": "markdown",
   "id": "7964fb1a-38cd-408e-91ba-dd2c4cb6922c",
   "metadata": {},
   "source": [
    "## OpenAI's example"
   ]
  },
  {
   "cell_type": "code",
   "execution_count": 7,
   "id": "fb59bc09",
   "metadata": {},
   "outputs": [],
   "source": [
    "# Example from OpenAI API Quickstart\n",
    "completion = client.chat.completions.create(\n",
    "  model=\"gpt-3.5-turbo\",\n",
    "  messages=[\n",
    "    {\"role\": \"system\", \"content\": \"You are a poetic assistant, skilled in explaining complex programming concepts with creative flair.\"},\n",
    "    {\"role\": \"user\", \"content\": \"Compose a poem that explains the concept of recursion in programming.\"}\n",
    "  ]\n",
    ")"
   ]
  },
  {
   "cell_type": "code",
   "execution_count": 8,
   "id": "5ed6d89b",
   "metadata": {
    "collapsed": true,
    "jupyter": {
     "outputs_hidden": true
    }
   },
   "outputs": [
    {
     "name": "stdout",
     "output_type": "stream",
     "text": [
      "ChatCompletionMessage(content=\"In the realm of codes and algorithms so grand,\\nThere lurks a concept both elegant and unplanned.\\nRecursion, a path that loops upon its own thread,\\nUnraveling mysteries, where logic is spread.\\n\\nImagine, if you will, a labyrinth in code,\\nWhere functions call themselves with a recursive ode.\\nLike a hall of mirrors, reflections with no end,\\nInto this maze, our dear program does descend.\\n\\nA function begins with fervor and with grace,\\nSeeking an answer, a problem to embrace.\\nBut lo and behold, it encounters itself anew,\\nA mirror image of actions it must pursue.\\n\\nIt dives deeper into a realm unknown,\\nAnd tackles smaller problems it has sown.\\nA quest within a quest, a journey quite profound,\\nRecursion unfolds, unraveling all around.\\n\\nWith every recursion, the problem is reduced,\\nSmaller and smaller, until it finds its truce.\\nYet still, unwinding, it retraces its track,\\nClimbing back upwards, again and again, to go back.\\n\\nLike a tree's branches, branching into more,\\nRecursion navigates, its potential does explore.\\nEach branch a call to itself, a miniature clone,\\nUnraveling the problem, piece by piece, it's shown.\\n\\nBut heed this warning, for recursion must be wise,\\nWith proper base cases, it won't compromise.\\nInfinite loops, a danger in its stride,\\nStopping conditions, they must be applied.\\n\\nSo embrace recursion, with caution and care,\\nIn programming's realm, it's a concept that's fair.\\nFor with each endless loop that recursion may berth,\\nA problem is solved, a mystery unearthed.\", role='assistant', function_call=None, tool_calls=None)\n"
     ]
    }
   ],
   "source": [
    "print(completion.choices[0].message)"
   ]
  },
  {
   "cell_type": "code",
   "execution_count": 10,
   "id": "99534e34",
   "metadata": {
    "collapsed": true,
    "jupyter": {
     "outputs_hidden": true,
     "source_hidden": true
    }
   },
   "outputs": [
    {
     "name": "stdout",
     "output_type": "stream",
     "text": [
      "In the realm of codes and algorithms so grand,\n",
      "There lurks a concept both elegant and unplanned.\n",
      "Recursion, a path that loops upon its own thread,\n",
      "Unraveling mysteries, where logic is spread.\n",
      "\n",
      "Imagine, if you will, a labyrinth in code,\n",
      "Where functions call themselves with a recursive ode.\n",
      "Like a hall of mirrors, reflections with no end,\n",
      "Into this maze, our dear program does descend.\n",
      "\n",
      "A function begins with fervor and with grace,\n",
      "Seeking an answer, a problem to embrace.\n",
      "But lo and behold, it encounters itself anew,\n",
      "A mirror image of actions it must pursue.\n",
      "\n",
      "It dives deeper into a realm unknown,\n",
      "And tackles smaller problems it has sown.\n",
      "A quest within a quest, a journey quite profound,\n",
      "Recursion unfolds, unraveling all around.\n",
      "\n",
      "With every recursion, the problem is reduced,\n",
      "Smaller and smaller, until it finds its truce.\n",
      "Yet still, unwinding, it retraces its track,\n",
      "Climbing back upwards, again and again, to go back.\n",
      "\n",
      "Like a tree's branches, branching into more,\n",
      "Recursion navigates, its potential does explore.\n",
      "Each branch a call to itself, a miniature clone,\n",
      "Unraveling the problem, piece by piece, it's shown.\n",
      "\n",
      "But heed this warning, for recursion must be wise,\n",
      "With proper base cases, it won't compromise.\n",
      "Infinite loops, a danger in its stride,\n",
      "Stopping conditions, they must be applied.\n",
      "\n",
      "So embrace recursion, with caution and care,\n",
      "In programming's realm, it's a concept that's fair.\n",
      "For with each endless loop that recursion may berth,\n",
      "A problem is solved, a mystery unearthed.\n"
     ]
    }
   ],
   "source": [
    "res = \"In the realm of codes and algorithms so grand,\\nThere lurks a concept both elegant and unplanned.\\nRecursion, a path that loops upon its own thread,\\nUnraveling mysteries, where logic is spread.\\n\\nImagine, if you will, a labyrinth in code,\\nWhere functions call themselves with a recursive ode.\\nLike a hall of mirrors, reflections with no end,\\nInto this maze, our dear program does descend.\\n\\nA function begins with fervor and with grace,\\nSeeking an answer, a problem to embrace.\\nBut lo and behold, it encounters itself anew,\\nA mirror image of actions it must pursue.\\n\\nIt dives deeper into a realm unknown,\\nAnd tackles smaller problems it has sown.\\nA quest within a quest, a journey quite profound,\\nRecursion unfolds, unraveling all around.\\n\\nWith every recursion, the problem is reduced,\\nSmaller and smaller, until it finds its truce.\\nYet still, unwinding, it retraces its track,\\nClimbing back upwards, again and again, to go back.\\n\\nLike a tree's branches, branching into more,\\nRecursion navigates, its potential does explore.\\nEach branch a call to itself, a miniature clone,\\nUnraveling the problem, piece by piece, it's shown.\\n\\nBut heed this warning, for recursion must be wise,\\nWith proper base cases, it won't compromise.\\nInfinite loops, a danger in its stride,\\nStopping conditions, they must be applied.\\n\\nSo embrace recursion, with caution and care,\\nIn programming's realm, it's a concept that's fair.\\nFor with each endless loop that recursion may berth,\\nA problem is solved, a mystery unearthed.\"\n",
    "print(f\"{res}\")"
   ]
  },
  {
   "cell_type": "markdown",
   "id": "5e64c122",
   "metadata": {},
   "source": [
    "# Orgchart Generator\n",
    "\n",
    "Powered by OpenAI ChatGPT.\n",
    "Billed to Raygan's personal experimentation account.\n"
   ]
  },
  {
   "cell_type": "code",
   "execution_count": 127,
   "id": "a2424a10",
   "metadata": {},
   "outputs": [],
   "source": [
    "personality = \"You generate only raw code. No chat commentary or explanations, please.\""
   ]
  },
  {
   "cell_type": "code",
   "execution_count": 140,
   "id": "a4aa2047",
   "metadata": {},
   "outputs": [],
   "source": [
    "# This is the data, which we can change.\n",
    "org_outline = \"\"\"\n",
    "    CEO, Grace Ellison\n",
    "        CTO, Gregory Dunn\n",
    "            VP of DX, Sam Rockless\n",
    "                DX Samurai, Gary Summers\n",
    "        CFO, Don Truddle\n",
    "            Billing Specialist, Billybob Nance\n",
    "            CPA, Christopher Umble\n",
    "                Book Keeper, Chad Grey\n",
    "        COO, Nany Fang\n",
    "            Factory Supervisor, Griff Lipp\n",
    "                Equipment Operator, Schubert Mannsfield\n",
    "\"\"\""
   ]
  },
  {
   "cell_type": "code",
   "execution_count": 160,
   "id": "05828a0d",
   "metadata": {},
   "outputs": [],
   "source": [
    "# This is the request prompt to OpenAI\n",
    "request = f\"\"\"\n",
    "Here's my organization.\n",
    "\n",
    "{org_outline}\n",
    "\n",
    "Please write a graphviz diagram in the dot language, \n",
    "that shows our organizational structure, using colors to signify hierarchy.\n",
    "Please include the staff names and titles in the chart.\n",
    "\"\"\""
   ]
  },
  {
   "cell_type": "code",
   "execution_count": 159,
   "id": "491d71ce",
   "metadata": {},
   "outputs": [
    {
     "name": "stdout",
     "output_type": "stream",
     "text": [
      "\n",
      "Here's my organization.\n",
      "\n",
      "\n",
      "    CEO, Grace Ellison\n",
      "        CTO, Gregory Dunn\n",
      "            VP of DX, Sam Rockless\n",
      "                DX Samurai, Gary Summers\n",
      "        CFO, Don Truddle\n",
      "            Billing Specialist, Billybob Nance\n",
      "            CPA, Christopher Umble\n",
      "                Book Keeper, Chad Grey\n",
      "        COO, Nany Fang\n",
      "            Factory Supervisor, Griff Lipp\n",
      "                Equipment Operator, Schubert Mannsfield\n",
      "\n",
      "\n",
      "Please write a graphviz diagram in the dot language, \n",
      "that shows our organizational structure, using colors to signify hierarchy?\n",
      "Please include the staff names and titles in the chart.\n",
      "\n"
     ]
    }
   ],
   "source": [
    "print(f\"{request}\")"
   ]
  },
  {
   "cell_type": "code",
   "execution_count": 152,
   "id": "239f1249",
   "metadata": {},
   "outputs": [],
   "source": [
    "completion = client.chat.completions.create(\n",
    "  model=\"gpt-3.5-turbo\",\n",
    "  messages=[\n",
    "    {\"role\": \"system\", \"content\": personality},\n",
    "    {\"role\": \"user\", \"content\": request}\n",
    "  ],\n",
    "  seed=1\n",
    ")"
   ]
  },
  {
   "cell_type": "code",
   "execution_count": 153,
   "id": "3b010053",
   "metadata": {},
   "outputs": [],
   "source": [
    "result = completion.choices[0].message"
   ]
  },
  {
   "cell_type": "code",
   "execution_count": 154,
   "id": "f983fc14",
   "metadata": {},
   "outputs": [
    {
     "name": "stdout",
     "output_type": "stream",
     "text": [
      "digraph {\n",
      "    node [shape=box, style=filled];\n",
      "    \n",
      "    CEO [color=red, label=\"CEO\\nGrace Ellison\"];\n",
      "    CTO [color=orange, label=\"CTO\\nGregory Dunn\"];\n",
      "    VP_DX [color=yellow, label=\"VP of DX\\nSam Rockless\"];\n",
      "    DX_Samurai [color=lightblue, label=\"DX Samurai\\nGary Summers\"];\n",
      "    CFO [color=orange, label=\"CFO\\nDon Truddle\"];\n",
      "    Billing_Specialist [color=lightblue, label=\"Billing Specialist\\nBillybob Nance\"];\n",
      "    CPA [color=lightblue, label=\"CPA\\nChristopher Umble\"];\n",
      "    Book_Keeper [color=lightblue, label=\"Book Keeper\\nChad Grey\"];\n",
      "    COO [color=orange, label=\"COO\\nNany Fang\"];\n",
      "    Factory_Supervisor [color=lightblue, label=\"Factory Supervisor\\nGriff Lipp\"];\n",
      "    Equipment_Operator [color=lightblue, label=\"Equipment Operator\\nSchubert Mannsfield\"];\n",
      "    \n",
      "    CEO -> CTO -> VP_DX -> DX_Samurai;\n",
      "    CEO -> CFO -> Billing_Specialist;\n",
      "    CFO -> CPA -> Book_Keeper;\n",
      "    CEO -> COO -> Factory_Supervisor -> Equipment_Operator;\n",
      "}\n"
     ]
    }
   ],
   "source": [
    "print(result.content)"
   ]
  },
  {
   "cell_type": "code",
   "execution_count": 99,
   "id": "9daf08b6",
   "metadata": {},
   "outputs": [],
   "source": [
    "import re"
   ]
  },
  {
   "cell_type": "code",
   "execution_count": 107,
   "id": "2608bc1c",
   "metadata": {},
   "outputs": [
    {
     "name": "stdout",
     "output_type": "stream",
     "text": [
      "Help on function search in module re:\n",
      "\n",
      "search(pattern, string, flags=0)\n",
      "    Scan through string looking for a match to the pattern, returning\n",
      "    a Match object, or None if no match was found.\n",
      "\n"
     ]
    }
   ],
   "source": [
    "help(re.search)"
   ]
  },
  {
   "cell_type": "code",
   "execution_count": 123,
   "id": "6eb16783",
   "metadata": {},
   "outputs": [
    {
     "name": "stdout",
     "output_type": "stream",
     "text": [
      "\n",
      "digraph {\n",
      "    graph [rankdir=TB]\n",
      "    node [fontname=\"Arial\", fontsize=12, shape=box, style=filled]\n",
      "\n",
      "    ceo [label=\"Bob Fiskett, CEO\", fillcolor=\"#FF8C00\", shape=box]\n",
      "    cto [label=\"CTO\", fillcolor=\"#FFD700\", shape=box]\n",
      "    vp [label=\"VP of DX\", fillcolor=\"#FFD700\", shape=box]\n",
      "    samurai [label=\"DX Samurai\", fillcolor=\"#FFD700\", shape=box]\n",
      "    cfo [label=\"CFO\", fillcolor=\"#00BFFF\", shape=box]\n",
      "    billing [label=\"Billing Specialist\", fillcolor=\"#00BFFF\", shape=box]\n",
      "    cpa [label=\"CPA\", fillcolor=\"#00BFFF\", shape=box]\n",
      "    bookkeeper [label=\"Book Keeper\", fillcolor=\"#00BFFF\", shape=box]\n",
      "    coo [label=\"COO\", fillcolor=\"#ADFF2F\", shape=box]\n",
      "    supervisor [label=\"Factory Supervisor\", fillcolor=\"#ADFF2F\", shape=box]\n",
      "    operator [label=\"Equipment Operator\", fillcolor=\"#ADFF2F\", shape=box]\n",
      "\n",
      "    ceo -> cto\n",
      "    ceo -> cfo\n",
      "    ceo -> coo\n",
      "    cto -> vp\n",
      "    vp -> samurai\n",
      "    cfo -> billing\n",
      "    cfo -> cpa\n",
      "    cpa -> bookkeeper\n",
      "    coo -> supervisor\n",
      "    supervisor -> operator\n",
      "}\n",
      "\n"
     ]
    }
   ],
   "source": [
    "cleaned = re.sub(r'.*```dot','',result.content,flags=re.DOTALL)\n",
    "cleaned = re.sub(r'```.*','',cleaned,flags=re.DOTALL)\n",
    "cleaned = re.sub(r'rankdir=BT','rankdir=TB',cleaned)\n",
    "named = re.sub(r'CEO','Bob Fiskett, CEO',cleaned)\n",
    "print(named)"
   ]
  },
  {
   "cell_type": "code",
   "execution_count": 23,
   "id": "107589ad",
   "metadata": {},
   "outputs": [],
   "source": [
    "import graphviz"
   ]
  },
  {
   "cell_type": "code",
   "execution_count": 155,
   "id": "d29aaca8",
   "metadata": {},
   "outputs": [],
   "source": [
    "source = result.content"
   ]
  },
  {
   "cell_type": "code",
   "execution_count": 156,
   "id": "ff9cd58c",
   "metadata": {},
   "outputs": [],
   "source": [
    "orgchart = graphviz.Source(source)"
   ]
  },
  {
   "cell_type": "code",
   "execution_count": 157,
   "id": "dd607aab",
   "metadata": {},
   "outputs": [
    {
     "data": {
      "image/svg+xml": [
       "<?xml version=\"1.0\" encoding=\"UTF-8\" standalone=\"no\"?>\n",
       "<!DOCTYPE svg PUBLIC \"-//W3C//DTD SVG 1.1//EN\"\n",
       " \"http://www.w3.org/Graphics/SVG/1.1/DTD/svg11.dtd\">\n",
       "<!-- Generated by graphviz version 2.43.0 (0)\n",
       " -->\n",
       "<!-- Title: %3 Pages: 1 -->\n",
       "<svg width=\"633pt\" height=\"268pt\"\n",
       " viewBox=\"0.00 0.00 632.50 268.00\" xmlns=\"http://www.w3.org/2000/svg\" xmlns:xlink=\"http://www.w3.org/1999/xlink\">\n",
       "<g id=\"graph0\" class=\"graph\" transform=\"scale(1 1) rotate(0) translate(4 264)\">\n",
       "<title>%3</title>\n",
       "<polygon fill=\"white\" stroke=\"transparent\" points=\"-4,4 -4,-264 628.5,-264 628.5,4 -4,4\"/>\n",
       "<!-- CEO -->\n",
       "<g id=\"node1\" class=\"node\">\n",
       "<title>CEO</title>\n",
       "<polygon fill=\"red\" stroke=\"red\" points=\"316,-260 204,-260 204,-222 316,-222 316,-260\"/>\n",
       "<text text-anchor=\"middle\" x=\"260\" y=\"-244.8\" font-family=\"Times,serif\" font-size=\"14.00\">CEO</text>\n",
       "<text text-anchor=\"middle\" x=\"260\" y=\"-229.8\" font-family=\"Times,serif\" font-size=\"14.00\">Grace Ellison</text>\n",
       "</g>\n",
       "<!-- CTO -->\n",
       "<g id=\"node2\" class=\"node\">\n",
       "<title>CTO</title>\n",
       "<polygon fill=\"orange\" stroke=\"orange\" points=\"182,-186 64,-186 64,-148 182,-148 182,-186\"/>\n",
       "<text text-anchor=\"middle\" x=\"123\" y=\"-170.8\" font-family=\"Times,serif\" font-size=\"14.00\">CTO</text>\n",
       "<text text-anchor=\"middle\" x=\"123\" y=\"-155.8\" font-family=\"Times,serif\" font-size=\"14.00\">Gregory Dunn</text>\n",
       "</g>\n",
       "<!-- CEO&#45;&gt;CTO -->\n",
       "<g id=\"edge1\" class=\"edge\">\n",
       "<title>CEO&#45;&gt;CTO</title>\n",
       "<path fill=\"none\" stroke=\"black\" d=\"M225.43,-221.83C207.58,-212.45 185.62,-200.91 166.62,-190.92\"/>\n",
       "<polygon fill=\"black\" stroke=\"black\" points=\"168.04,-187.72 157.56,-186.16 164.78,-193.91 168.04,-187.72\"/>\n",
       "</g>\n",
       "<!-- CFO -->\n",
       "<g id=\"node5\" class=\"node\">\n",
       "<title>CFO</title>\n",
       "<polygon fill=\"orange\" stroke=\"orange\" points=\"312.5,-186 207.5,-186 207.5,-148 312.5,-148 312.5,-186\"/>\n",
       "<text text-anchor=\"middle\" x=\"260\" y=\"-170.8\" font-family=\"Times,serif\" font-size=\"14.00\">CFO</text>\n",
       "<text text-anchor=\"middle\" x=\"260\" y=\"-155.8\" font-family=\"Times,serif\" font-size=\"14.00\">Don Truddle</text>\n",
       "</g>\n",
       "<!-- CEO&#45;&gt;CFO -->\n",
       "<g id=\"edge4\" class=\"edge\">\n",
       "<title>CEO&#45;&gt;CFO</title>\n",
       "<path fill=\"none\" stroke=\"black\" d=\"M260,-221.83C260,-214.13 260,-204.97 260,-196.42\"/>\n",
       "<polygon fill=\"black\" stroke=\"black\" points=\"263.5,-196.41 260,-186.41 256.5,-196.41 263.5,-196.41\"/>\n",
       "</g>\n",
       "<!-- COO -->\n",
       "<g id=\"node9\" class=\"node\">\n",
       "<title>COO</title>\n",
       "<polygon fill=\"orange\" stroke=\"orange\" points=\"534,-186 440,-186 440,-148 534,-148 534,-186\"/>\n",
       "<text text-anchor=\"middle\" x=\"487\" y=\"-170.8\" font-family=\"Times,serif\" font-size=\"14.00\">COO</text>\n",
       "<text text-anchor=\"middle\" x=\"487\" y=\"-155.8\" font-family=\"Times,serif\" font-size=\"14.00\">Nany Fang</text>\n",
       "</g>\n",
       "<!-- CEO&#45;&gt;COO -->\n",
       "<g id=\"edge8\" class=\"edge\">\n",
       "<title>CEO&#45;&gt;COO</title>\n",
       "<path fill=\"none\" stroke=\"black\" d=\"M316.11,-222.2C350.91,-211.16 395.49,-197.03 430.38,-185.96\"/>\n",
       "<polygon fill=\"black\" stroke=\"black\" points=\"431.48,-189.28 439.95,-182.92 429.36,-182.61 431.48,-189.28\"/>\n",
       "</g>\n",
       "<!-- VP_DX -->\n",
       "<g id=\"node3\" class=\"node\">\n",
       "<title>VP_DX</title>\n",
       "<polygon fill=\"yellow\" stroke=\"yellow\" points=\"119.5,-112 4.5,-112 4.5,-74 119.5,-74 119.5,-112\"/>\n",
       "<text text-anchor=\"middle\" x=\"62\" y=\"-96.8\" font-family=\"Times,serif\" font-size=\"14.00\">VP of DX</text>\n",
       "<text text-anchor=\"middle\" x=\"62\" y=\"-81.8\" font-family=\"Times,serif\" font-size=\"14.00\">Sam Rockless</text>\n",
       "</g>\n",
       "<!-- CTO&#45;&gt;VP_DX -->\n",
       "<g id=\"edge2\" class=\"edge\">\n",
       "<title>CTO&#45;&gt;VP_DX</title>\n",
       "<path fill=\"none\" stroke=\"black\" d=\"M107.61,-147.83C100.51,-139.45 91.95,-129.35 84.18,-120.17\"/>\n",
       "<polygon fill=\"black\" stroke=\"black\" points=\"86.73,-117.78 77.6,-112.41 81.39,-122.31 86.73,-117.78\"/>\n",
       "</g>\n",
       "<!-- DX_Samurai -->\n",
       "<g id=\"node4\" class=\"node\">\n",
       "<title>DX_Samurai</title>\n",
       "<polygon fill=\"lightblue\" stroke=\"lightblue\" points=\"124,-38 0,-38 0,0 124,0 124,-38\"/>\n",
       "<text text-anchor=\"middle\" x=\"62\" y=\"-22.8\" font-family=\"Times,serif\" font-size=\"14.00\">DX Samurai</text>\n",
       "<text text-anchor=\"middle\" x=\"62\" y=\"-7.8\" font-family=\"Times,serif\" font-size=\"14.00\">Gary Summers</text>\n",
       "</g>\n",
       "<!-- VP_DX&#45;&gt;DX_Samurai -->\n",
       "<g id=\"edge3\" class=\"edge\">\n",
       "<title>VP_DX&#45;&gt;DX_Samurai</title>\n",
       "<path fill=\"none\" stroke=\"black\" d=\"M62,-73.83C62,-66.13 62,-56.97 62,-48.42\"/>\n",
       "<polygon fill=\"black\" stroke=\"black\" points=\"65.5,-48.41 62,-38.41 58.5,-48.41 65.5,-48.41\"/>\n",
       "</g>\n",
       "<!-- Billing_Specialist -->\n",
       "<g id=\"node6\" class=\"node\">\n",
       "<title>Billing_Specialist</title>\n",
       "<polygon fill=\"lightblue\" stroke=\"lightblue\" points=\"274.5,-112 137.5,-112 137.5,-74 274.5,-74 274.5,-112\"/>\n",
       "<text text-anchor=\"middle\" x=\"206\" y=\"-96.8\" font-family=\"Times,serif\" font-size=\"14.00\">Billing Specialist</text>\n",
       "<text text-anchor=\"middle\" x=\"206\" y=\"-81.8\" font-family=\"Times,serif\" font-size=\"14.00\">Billybob Nance</text>\n",
       "</g>\n",
       "<!-- CFO&#45;&gt;Billing_Specialist -->\n",
       "<g id=\"edge5\" class=\"edge\">\n",
       "<title>CFO&#45;&gt;Billing_Specialist</title>\n",
       "<path fill=\"none\" stroke=\"black\" d=\"M246.37,-147.83C240.15,-139.54 232.67,-129.56 225.84,-120.45\"/>\n",
       "<polygon fill=\"black\" stroke=\"black\" points=\"228.61,-118.31 219.81,-112.41 223.01,-122.51 228.61,-118.31\"/>\n",
       "</g>\n",
       "<!-- CPA -->\n",
       "<g id=\"node7\" class=\"node\">\n",
       "<title>CPA</title>\n",
       "<polygon fill=\"lightblue\" stroke=\"lightblue\" points=\"447,-112 293,-112 293,-74 447,-74 447,-112\"/>\n",
       "<text text-anchor=\"middle\" x=\"370\" y=\"-96.8\" font-family=\"Times,serif\" font-size=\"14.00\">CPA</text>\n",
       "<text text-anchor=\"middle\" x=\"370\" y=\"-81.8\" font-family=\"Times,serif\" font-size=\"14.00\">Christopher Umble</text>\n",
       "</g>\n",
       "<!-- CFO&#45;&gt;CPA -->\n",
       "<g id=\"edge6\" class=\"edge\">\n",
       "<title>CFO&#45;&gt;CPA</title>\n",
       "<path fill=\"none\" stroke=\"black\" d=\"M287.76,-147.83C301.7,-138.71 318.76,-127.54 333.72,-117.74\"/>\n",
       "<polygon fill=\"black\" stroke=\"black\" points=\"335.8,-120.57 342.25,-112.16 331.97,-114.71 335.8,-120.57\"/>\n",
       "</g>\n",
       "<!-- Book_Keeper -->\n",
       "<g id=\"node8\" class=\"node\">\n",
       "<title>Book_Keeper</title>\n",
       "<polygon fill=\"lightblue\" stroke=\"lightblue\" points=\"423.5,-38 316.5,-38 316.5,0 423.5,0 423.5,-38\"/>\n",
       "<text text-anchor=\"middle\" x=\"370\" y=\"-22.8\" font-family=\"Times,serif\" font-size=\"14.00\">Book Keeper</text>\n",
       "<text text-anchor=\"middle\" x=\"370\" y=\"-7.8\" font-family=\"Times,serif\" font-size=\"14.00\">Chad Grey</text>\n",
       "</g>\n",
       "<!-- CPA&#45;&gt;Book_Keeper -->\n",
       "<g id=\"edge7\" class=\"edge\">\n",
       "<title>CPA&#45;&gt;Book_Keeper</title>\n",
       "<path fill=\"none\" stroke=\"black\" d=\"M370,-73.83C370,-66.13 370,-56.97 370,-48.42\"/>\n",
       "<polygon fill=\"black\" stroke=\"black\" points=\"373.5,-48.41 370,-38.41 366.5,-48.41 373.5,-48.41\"/>\n",
       "</g>\n",
       "<!-- Factory_Supervisor -->\n",
       "<g id=\"node10\" class=\"node\">\n",
       "<title>Factory_Supervisor</title>\n",
       "<polygon fill=\"lightblue\" stroke=\"lightblue\" points=\"618.5,-112 465.5,-112 465.5,-74 618.5,-74 618.5,-112\"/>\n",
       "<text text-anchor=\"middle\" x=\"542\" y=\"-96.8\" font-family=\"Times,serif\" font-size=\"14.00\">Factory Supervisor</text>\n",
       "<text text-anchor=\"middle\" x=\"542\" y=\"-81.8\" font-family=\"Times,serif\" font-size=\"14.00\">Griff Lipp</text>\n",
       "</g>\n",
       "<!-- COO&#45;&gt;Factory_Supervisor -->\n",
       "<g id=\"edge9\" class=\"edge\">\n",
       "<title>COO&#45;&gt;Factory_Supervisor</title>\n",
       "<path fill=\"none\" stroke=\"black\" d=\"M500.88,-147.83C507.21,-139.54 514.84,-129.56 521.79,-120.45\"/>\n",
       "<polygon fill=\"black\" stroke=\"black\" points=\"524.65,-122.48 527.93,-112.41 519.08,-118.24 524.65,-122.48\"/>\n",
       "</g>\n",
       "<!-- Equipment_Operator -->\n",
       "<g id=\"node11\" class=\"node\">\n",
       "<title>Equipment_Operator</title>\n",
       "<polygon fill=\"lightblue\" stroke=\"lightblue\" points=\"624.5,-38 459.5,-38 459.5,0 624.5,0 624.5,-38\"/>\n",
       "<text text-anchor=\"middle\" x=\"542\" y=\"-22.8\" font-family=\"Times,serif\" font-size=\"14.00\">Equipment Operator</text>\n",
       "<text text-anchor=\"middle\" x=\"542\" y=\"-7.8\" font-family=\"Times,serif\" font-size=\"14.00\">Schubert Mannsfield</text>\n",
       "</g>\n",
       "<!-- Factory_Supervisor&#45;&gt;Equipment_Operator -->\n",
       "<g id=\"edge10\" class=\"edge\">\n",
       "<title>Factory_Supervisor&#45;&gt;Equipment_Operator</title>\n",
       "<path fill=\"none\" stroke=\"black\" d=\"M542,-73.83C542,-66.13 542,-56.97 542,-48.42\"/>\n",
       "<polygon fill=\"black\" stroke=\"black\" points=\"545.5,-48.41 542,-38.41 538.5,-48.41 545.5,-48.41\"/>\n",
       "</g>\n",
       "</g>\n",
       "</svg>\n"
      ],
      "text/plain": [
       "<graphviz.sources.Source at 0x7fc50ae0fa30>"
      ]
     },
     "execution_count": 157,
     "metadata": {},
     "output_type": "execute_result"
    }
   ],
   "source": [
    "orgchart"
   ]
  },
  {
   "cell_type": "code",
   "execution_count": 149,
   "id": "9db1c1c1",
   "metadata": {},
   "outputs": [
    {
     "name": "stdout",
     "output_type": "stream",
     "text": [
      "You generate only raw code. No chat commentary or explanations, please.\n"
     ]
    }
   ],
   "source": [
    "print(personality)"
   ]
  },
  {
   "cell_type": "code",
   "execution_count": null,
   "id": "f1c6f063",
   "metadata": {},
   "outputs": [],
   "source": []
  }
 ],
 "metadata": {
  "kernelspec": {
   "display_name": "Python 3.9",
   "language": "python",
   "name": "python3"
  },
  "language_info": {
   "codemirror_mode": {
    "name": "ipython",
    "version": 3
   },
   "file_extension": ".py",
   "mimetype": "text/x-python",
   "name": "python",
   "nbconvert_exporter": "python",
   "pygments_lexer": "ipython3",
   "version": "3.9.5"
  },
  "toc": {
   "base_numbering": 1,
   "nav_menu": {},
   "number_sections": true,
   "sideBar": true,
   "skip_h1_title": false,
   "title_cell": "Table of Contents",
   "title_sidebar": "Contents",
   "toc_cell": false,
   "toc_position": {},
   "toc_section_display": true,
   "toc_window_display": false
  }
 },
 "nbformat": 4,
 "nbformat_minor": 5
}

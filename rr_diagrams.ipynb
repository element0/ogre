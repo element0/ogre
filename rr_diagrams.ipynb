{
 "cells": [
  {
   "cell_type": "markdown",
   "id": "5ac43ff0",
   "metadata": {},
   "source": [
    "# Railroad Diagrams\n",
    "\n",
    "BNF -> Railroad\n",
    "\n",
    "by ChatGPT and Raygan\n",
    "2024-01-22"
   ]
  },
  {
   "cell_type": "code",
   "execution_count": 177,
   "id": "b88fd629",
   "metadata": {},
   "outputs": [],
   "source": [
    "# Setup\n",
    "from IPython.display import Image, HTML, SVG\n",
    "from io import StringIO\n",
    "\n",
    "# CORRECTED from ChatGPT\n",
    "from railroad import Diagram, Choice, Optional, ZeroOrMore, OneOrMore, Terminal\n",
    "from railroad import Start\n",
    "\n",
    "def bnf_to_railroad(bnf_str):    \n",
    "    \n",
    "    def process_rule(rule):\n",
    "        if '|' in rule:\n",
    "            # Choice\n",
    "            choices = rule.split('|')\n",
    "            diagram = Choice(0, *[process_rule(choice.strip()) for choice in choices])\n",
    "        elif '[' in rule and ']' in rule:\n",
    "            # Optional\n",
    "            optional_content = rule[rule.find('[')+1:rule.find(']')].strip()\n",
    "            diagram = Optional(process_rule(optional_content))\n",
    "        elif '{' in rule and '}' in rule:\n",
    "            # ZeroOrMore\n",
    "            zero_or_more_content = rule[rule.find('{')+1:rule.find('}')].strip()\n",
    "            diagram = ZeroOrMore(process_rule(zero_or_more_content))\n",
    "        elif '(' in rule and ')' in rule:\n",
    "            # OneOrMore\n",
    "            one_or_more_content = rule[rule.find('(')+1:rule.find(')')].strip()\n",
    "            diagram = OneOrMore(process_rule(one_or_more_content))\n",
    "        else:\n",
    "            # Terminal\n",
    "            diagram = Terminal(rule.strip())\n",
    "        return diagram\n",
    "    \n",
    "    diagram_list = []\n",
    "    \n",
    "    for line in bnf_str.split('\\n'):\n",
    "        if '::=' in line:\n",
    "            rule_name, rule_content = line.split('::=')\n",
    "            diagram = Diagram(Start(label=rule_name.strip()),\n",
    "                              process_rule(rule_content.strip()))\n",
    "            diagram_list.append(diagram)\n",
    "\n",
    "    return diagram_list\n",
    "\n",
    "def display_rr(bnf_str):\n",
    "    d_list = bnf_to_railroad(bnf_str)\n",
    "    for d in d_list:\n",
    "        with StringIO() as s:\n",
    "            d.writeStandalone(s.write)\n",
    "            s.seek(0)\n",
    "            buf = s.read()\n",
    "        display(SVG(buf))\n",
    "        display(HTML('<hr>'))\n",
    "    "
   ]
  },
  {
   "cell_type": "code",
   "execution_count": 178,
   "id": "90c8c49c",
   "metadata": {},
   "outputs": [],
   "source": [
    "# Sample:\n",
    "bnf_string = \"\"\"\n",
    "expr ::= term | term '+' expr\n",
    "term ::= factor | factor '*' term\n",
    "factor ::= '(' expr ')' | number\n",
    "number ::= '0' | '1' | '2' | '3' | '4' | '5' | '6' | '7' | '8' | '9'\n",
    "\"\"\""
   ]
  },
  {
   "cell_type": "code",
   "execution_count": 179,
   "id": "3a0cf611",
   "metadata": {},
   "outputs": [
    {
     "data": {
      "image/svg+xml": [
       "<svg xmlns=\"http://www.w3.org/2000/svg\" xmlns:xlink=\"http://www.w3.org/1999/xlink\" class=\"railroad-diagram\" height=\"92\" viewBox=\"0 0 274.5 92\" width=\"274.5\">\n",
       "<g transform=\"translate(.5 .5)\">\n",
       "<g>\n",
       "<path d=\"M20 21v20m10 -20v20m-10 -10h44.0\"/><text style=\"text-anchor:start\" x=\"20\" y=\"16\">expr</text></g><g>\n",
       "<path d=\"M64.0 31h0.0\"/><path d=\"M234.5 31h0.0\"/><path d=\"M64.0 31h20\"/><g class=\"terminal \">\n",
       "<path d=\"M84.0 31h38.25\"/><path d=\"M176.25 31h38.25\"/><rect height=\"22\" rx=\"10\" ry=\"10\" width=\"54\" x=\"122.25\" y=\"20\"/><text x=\"149.25\" y=\"35\">term</text></g><path d=\"M214.5 31h20\"/><path d=\"M64.0 31a10 10 0 0 1 10 10v10a10 10 0 0 0 10 10\"/><g class=\"terminal \">\n",
       "<path d=\"M84.0 61h0.0\"/><path d=\"M214.5 61h0.0\"/><rect height=\"22\" rx=\"10\" ry=\"10\" width=\"130.5\" x=\"84\" y=\"50\"/><text x=\"149.25\" y=\"65\">term '+' expr</text></g><path d=\"M214.5 61a10 10 0 0 0 10 -10v-10a10 10 0 0 1 10 -10\"/></g><path d=\"M 234.5 31 h 20 m -10 -10 v 20 m 10 -20 v 20\"/></g><style>/* <![CDATA[ */\n",
       "\tsvg.railroad-diagram {\n",
       "\t\tbackground-color:hsl(30,20%,95%);\n",
       "\t}\n",
       "\tsvg.railroad-diagram path {\n",
       "\t\tstroke-width:3;\n",
       "\t\tstroke:black;\n",
       "\t\tfill:rgba(0,0,0,0);\n",
       "\t}\n",
       "\tsvg.railroad-diagram text {\n",
       "\t\tfont:bold 14px monospace;\n",
       "\t\ttext-anchor:middle;\n",
       "\t}\n",
       "\tsvg.railroad-diagram text.label{\n",
       "\t\ttext-anchor:start;\n",
       "\t}\n",
       "\tsvg.railroad-diagram text.comment{\n",
       "\t\tfont:italic 12px monospace;\n",
       "\t}\n",
       "\tsvg.railroad-diagram rect{\n",
       "\t\tstroke-width:3;\n",
       "\t\tstroke:black;\n",
       "\t\tfill:hsl(120,100%,90%);\n",
       "\t}\n",
       "\tsvg.railroad-diagram rect.group-box {\n",
       "\t\tstroke: gray;\n",
       "\t\tstroke-dasharray: 10 5;\n",
       "\t\tfill: none;\n",
       "\t}\n",
       "\n",
       "/* ]]> */\n",
       "</style></svg>"
      ],
      "text/plain": [
       "<IPython.core.display.SVG object>"
      ]
     },
     "metadata": {},
     "output_type": "display_data"
    },
    {
     "data": {
      "text/html": [
       "<hr>"
      ],
      "text/plain": [
       "<IPython.core.display.HTML object>"
      ]
     },
     "metadata": {},
     "output_type": "display_data"
    },
    {
     "data": {
      "image/svg+xml": [
       "<svg xmlns=\"http://www.w3.org/2000/svg\" xmlns:xlink=\"http://www.w3.org/1999/xlink\" class=\"railroad-diagram\" height=\"92\" viewBox=\"0 0 291.5 92\" width=\"291.5\">\n",
       "<g transform=\"translate(.5 .5)\">\n",
       "<g>\n",
       "<path d=\"M20 21v20m10 -20v20m-10 -10h44.0\"/><text style=\"text-anchor:start\" x=\"20\" y=\"16\">term</text></g><g>\n",
       "<path d=\"M64.0 31h0.0\"/><path d=\"M251.5 31h0.0\"/><path d=\"M64.0 31h20\"/><g class=\"terminal \">\n",
       "<path d=\"M84.0 31h38.25\"/><path d=\"M193.25 31h38.25\"/><rect height=\"22\" rx=\"10\" ry=\"10\" width=\"71\" x=\"122.25\" y=\"20\"/><text x=\"157.75\" y=\"35\">factor</text></g><path d=\"M231.5 31h20\"/><path d=\"M64.0 31a10 10 0 0 1 10 10v10a10 10 0 0 0 10 10\"/><g class=\"terminal \">\n",
       "<path d=\"M84.0 61h0.0\"/><path d=\"M231.5 61h0.0\"/><rect height=\"22\" rx=\"10\" ry=\"10\" width=\"147.5\" x=\"84\" y=\"50\"/><text x=\"157.75\" y=\"65\">factor '*' term</text></g><path d=\"M231.5 61a10 10 0 0 0 10 -10v-10a10 10 0 0 1 10 -10\"/></g><path d=\"M 251.5 31 h 20 m -10 -10 v 20 m 10 -20 v 20\"/></g><style>/* <![CDATA[ */\n",
       "\tsvg.railroad-diagram {\n",
       "\t\tbackground-color:hsl(30,20%,95%);\n",
       "\t}\n",
       "\tsvg.railroad-diagram path {\n",
       "\t\tstroke-width:3;\n",
       "\t\tstroke:black;\n",
       "\t\tfill:rgba(0,0,0,0);\n",
       "\t}\n",
       "\tsvg.railroad-diagram text {\n",
       "\t\tfont:bold 14px monospace;\n",
       "\t\ttext-anchor:middle;\n",
       "\t}\n",
       "\tsvg.railroad-diagram text.label{\n",
       "\t\ttext-anchor:start;\n",
       "\t}\n",
       "\tsvg.railroad-diagram text.comment{\n",
       "\t\tfont:italic 12px monospace;\n",
       "\t}\n",
       "\tsvg.railroad-diagram rect{\n",
       "\t\tstroke-width:3;\n",
       "\t\tstroke:black;\n",
       "\t\tfill:hsl(120,100%,90%);\n",
       "\t}\n",
       "\tsvg.railroad-diagram rect.group-box {\n",
       "\t\tstroke: gray;\n",
       "\t\tstroke-dasharray: 10 5;\n",
       "\t\tfill: none;\n",
       "\t}\n",
       "\n",
       "/* ]]> */\n",
       "</style></svg>"
      ],
      "text/plain": [
       "<IPython.core.display.SVG object>"
      ]
     },
     "metadata": {},
     "output_type": "display_data"
    },
    {
     "data": {
      "text/html": [
       "<hr>"
      ],
      "text/plain": [
       "<IPython.core.display.HTML object>"
      ]
     },
     "metadata": {},
     "output_type": "display_data"
    },
    {
     "data": {
      "image/svg+xml": [
       "<svg xmlns=\"http://www.w3.org/2000/svg\" xmlns:xlink=\"http://www.w3.org/1999/xlink\" class=\"railroad-diagram\" height=\"101\" viewBox=\"0 0 269.0 101\" width=\"269.0\">\n",
       "<g transform=\"translate(.5 .5)\">\n",
       "<g>\n",
       "<path d=\"M20 21v20m10 -20v20m-10 -10h61.0\"/><text style=\"text-anchor:start\" x=\"20\" y=\"16\">factor</text></g><g>\n",
       "<path d=\"M81.0 31h0.0\"/><path d=\"M229.0 31h0.0\"/><path d=\"M81.0 31h20\"/><g>\n",
       "<path d=\"M101.0 31h0.0\"/><path d=\"M209.0 31h0.0\"/><path d=\"M101.0 31h10\"/><g class=\"terminal \">\n",
       "<path d=\"M111.0 31h0.0\"/><path d=\"M199.0 31h0.0\"/><rect height=\"22\" rx=\"10\" ry=\"10\" width=\"88\" x=\"111\" y=\"20\"/><text x=\"155\" y=\"35\">' expr '</text></g><path d=\"M199.0 31h10\"/><path d=\"M111.0 31a10 10 0 0 0 -10 10v0a10 10 0 0 0 10 10\"/><g>\n",
       "<path d=\"M111.0 51h88.0\"/></g><path d=\"M199.0 51a10 10 0 0 0 10 -10v0a10 10 0 0 0 -10 -10\"/></g><path d=\"M209.0 31h20\"/><path d=\"M81.0 31a10 10 0 0 1 10 10v19a10 10 0 0 0 10 10\"/><g class=\"terminal \">\n",
       "<path d=\"M101.0 70h18.5\"/><path d=\"M190.5 70h18.5\"/><rect height=\"22\" rx=\"10\" ry=\"10\" width=\"71\" x=\"119.5\" y=\"59\"/><text x=\"155\" y=\"74\">number</text></g><path d=\"M209.0 70a10 10 0 0 0 10 -10v-19a10 10 0 0 1 10 -10\"/></g><path d=\"M 229.0 31 h 20 m -10 -10 v 20 m 10 -20 v 20\"/></g><style>/* <![CDATA[ */\n",
       "\tsvg.railroad-diagram {\n",
       "\t\tbackground-color:hsl(30,20%,95%);\n",
       "\t}\n",
       "\tsvg.railroad-diagram path {\n",
       "\t\tstroke-width:3;\n",
       "\t\tstroke:black;\n",
       "\t\tfill:rgba(0,0,0,0);\n",
       "\t}\n",
       "\tsvg.railroad-diagram text {\n",
       "\t\tfont:bold 14px monospace;\n",
       "\t\ttext-anchor:middle;\n",
       "\t}\n",
       "\tsvg.railroad-diagram text.label{\n",
       "\t\ttext-anchor:start;\n",
       "\t}\n",
       "\tsvg.railroad-diagram text.comment{\n",
       "\t\tfont:italic 12px monospace;\n",
       "\t}\n",
       "\tsvg.railroad-diagram rect{\n",
       "\t\tstroke-width:3;\n",
       "\t\tstroke:black;\n",
       "\t\tfill:hsl(120,100%,90%);\n",
       "\t}\n",
       "\tsvg.railroad-diagram rect.group-box {\n",
       "\t\tstroke: gray;\n",
       "\t\tstroke-dasharray: 10 5;\n",
       "\t\tfill: none;\n",
       "\t}\n",
       "\n",
       "/* ]]> */\n",
       "</style></svg>"
      ],
      "text/plain": [
       "<IPython.core.display.SVG object>"
      ]
     },
     "metadata": {},
     "output_type": "display_data"
    },
    {
     "data": {
      "text/html": [
       "<hr>"
      ],
      "text/plain": [
       "<IPython.core.display.HTML object>"
      ]
     },
     "metadata": {},
     "output_type": "display_data"
    },
    {
     "data": {
      "image/svg+xml": [
       "<svg xmlns=\"http://www.w3.org/2000/svg\" xmlns:xlink=\"http://www.w3.org/1999/xlink\" class=\"railroad-diagram\" height=\"332\" viewBox=\"0 0 206.5 332\" width=\"206.5\">\n",
       "<g transform=\"translate(.5 .5)\">\n",
       "<g>\n",
       "<path d=\"M20 21v20m10 -20v20m-10 -10h61.0\"/><text style=\"text-anchor:start\" x=\"20\" y=\"16\">number</text></g><g>\n",
       "<path d=\"M81.0 31h0.0\"/><path d=\"M166.5 31h0.0\"/><path d=\"M81.0 31h20\"/><g class=\"terminal \">\n",
       "<path d=\"M101.0 31h0.0\"/><path d=\"M146.5 31h0.0\"/><rect height=\"22\" rx=\"10\" ry=\"10\" width=\"45.5\" x=\"101\" y=\"20\"/><text x=\"123.75\" y=\"35\">'0'</text></g><path d=\"M146.5 31h20\"/><path d=\"M81.0 31a10 10 0 0 1 10 10v10a10 10 0 0 0 10 10\"/><g class=\"terminal \">\n",
       "<path d=\"M101.0 61h0.0\"/><path d=\"M146.5 61h0.0\"/><rect height=\"22\" rx=\"10\" ry=\"10\" width=\"45.5\" x=\"101\" y=\"50\"/><text x=\"123.75\" y=\"65\">'1'</text></g><path d=\"M146.5 61a10 10 0 0 0 10 -10v-10a10 10 0 0 1 10 -10\"/><path d=\"M81.0 31a10 10 0 0 1 10 10v40a10 10 0 0 0 10 10\"/><g class=\"terminal \">\n",
       "<path d=\"M101.0 91h0.0\"/><path d=\"M146.5 91h0.0\"/><rect height=\"22\" rx=\"10\" ry=\"10\" width=\"45.5\" x=\"101\" y=\"80\"/><text x=\"123.75\" y=\"95\">'2'</text></g><path d=\"M146.5 91a10 10 0 0 0 10 -10v-40a10 10 0 0 1 10 -10\"/><path d=\"M81.0 31a10 10 0 0 1 10 10v70a10 10 0 0 0 10 10\"/><g class=\"terminal \">\n",
       "<path d=\"M101.0 121h0.0\"/><path d=\"M146.5 121h0.0\"/><rect height=\"22\" rx=\"10\" ry=\"10\" width=\"45.5\" x=\"101\" y=\"110\"/><text x=\"123.75\" y=\"125\">'3'</text></g><path d=\"M146.5 121a10 10 0 0 0 10 -10v-70a10 10 0 0 1 10 -10\"/><path d=\"M81.0 31a10 10 0 0 1 10 10v100a10 10 0 0 0 10 10\"/><g class=\"terminal \">\n",
       "<path d=\"M101.0 151h0.0\"/><path d=\"M146.5 151h0.0\"/><rect height=\"22\" rx=\"10\" ry=\"10\" width=\"45.5\" x=\"101\" y=\"140\"/><text x=\"123.75\" y=\"155\">'4'</text></g><path d=\"M146.5 151a10 10 0 0 0 10 -10v-100a10 10 0 0 1 10 -10\"/><path d=\"M81.0 31a10 10 0 0 1 10 10v130a10 10 0 0 0 10 10\"/><g class=\"terminal \">\n",
       "<path d=\"M101.0 181h0.0\"/><path d=\"M146.5 181h0.0\"/><rect height=\"22\" rx=\"10\" ry=\"10\" width=\"45.5\" x=\"101\" y=\"170\"/><text x=\"123.75\" y=\"185\">'5'</text></g><path d=\"M146.5 181a10 10 0 0 0 10 -10v-130a10 10 0 0 1 10 -10\"/><path d=\"M81.0 31a10 10 0 0 1 10 10v160a10 10 0 0 0 10 10\"/><g class=\"terminal \">\n",
       "<path d=\"M101.0 211h0.0\"/><path d=\"M146.5 211h0.0\"/><rect height=\"22\" rx=\"10\" ry=\"10\" width=\"45.5\" x=\"101\" y=\"200\"/><text x=\"123.75\" y=\"215\">'6'</text></g><path d=\"M146.5 211a10 10 0 0 0 10 -10v-160a10 10 0 0 1 10 -10\"/><path d=\"M81.0 31a10 10 0 0 1 10 10v190a10 10 0 0 0 10 10\"/><g class=\"terminal \">\n",
       "<path d=\"M101.0 241h0.0\"/><path d=\"M146.5 241h0.0\"/><rect height=\"22\" rx=\"10\" ry=\"10\" width=\"45.5\" x=\"101\" y=\"230\"/><text x=\"123.75\" y=\"245\">'7'</text></g><path d=\"M146.5 241a10 10 0 0 0 10 -10v-190a10 10 0 0 1 10 -10\"/><path d=\"M81.0 31a10 10 0 0 1 10 10v220a10 10 0 0 0 10 10\"/><g class=\"terminal \">\n",
       "<path d=\"M101.0 271h0.0\"/><path d=\"M146.5 271h0.0\"/><rect height=\"22\" rx=\"10\" ry=\"10\" width=\"45.5\" x=\"101\" y=\"260\"/><text x=\"123.75\" y=\"275\">'8'</text></g><path d=\"M146.5 271a10 10 0 0 0 10 -10v-220a10 10 0 0 1 10 -10\"/><path d=\"M81.0 31a10 10 0 0 1 10 10v250a10 10 0 0 0 10 10\"/><g class=\"terminal \">\n",
       "<path d=\"M101.0 301h0.0\"/><path d=\"M146.5 301h0.0\"/><rect height=\"22\" rx=\"10\" ry=\"10\" width=\"45.5\" x=\"101\" y=\"290\"/><text x=\"123.75\" y=\"305\">'9'</text></g><path d=\"M146.5 301a10 10 0 0 0 10 -10v-250a10 10 0 0 1 10 -10\"/></g><path d=\"M 166.5 31 h 20 m -10 -10 v 20 m 10 -20 v 20\"/></g><style>/* <![CDATA[ */\n",
       "\tsvg.railroad-diagram {\n",
       "\t\tbackground-color:hsl(30,20%,95%);\n",
       "\t}\n",
       "\tsvg.railroad-diagram path {\n",
       "\t\tstroke-width:3;\n",
       "\t\tstroke:black;\n",
       "\t\tfill:rgba(0,0,0,0);\n",
       "\t}\n",
       "\tsvg.railroad-diagram text {\n",
       "\t\tfont:bold 14px monospace;\n",
       "\t\ttext-anchor:middle;\n",
       "\t}\n",
       "\tsvg.railroad-diagram text.label{\n",
       "\t\ttext-anchor:start;\n",
       "\t}\n",
       "\tsvg.railroad-diagram text.comment{\n",
       "\t\tfont:italic 12px monospace;\n",
       "\t}\n",
       "\tsvg.railroad-diagram rect{\n",
       "\t\tstroke-width:3;\n",
       "\t\tstroke:black;\n",
       "\t\tfill:hsl(120,100%,90%);\n",
       "\t}\n",
       "\tsvg.railroad-diagram rect.group-box {\n",
       "\t\tstroke: gray;\n",
       "\t\tstroke-dasharray: 10 5;\n",
       "\t\tfill: none;\n",
       "\t}\n",
       "\n",
       "/* ]]> */\n",
       "</style></svg>"
      ],
      "text/plain": [
       "<IPython.core.display.SVG object>"
      ]
     },
     "metadata": {},
     "output_type": "display_data"
    },
    {
     "data": {
      "text/html": [
       "<hr>"
      ],
      "text/plain": [
       "<IPython.core.display.HTML object>"
      ]
     },
     "metadata": {},
     "output_type": "display_data"
    }
   ],
   "source": [
    "# Display rr diagrams\n",
    "display_rr(bnf_string)"
   ]
  },
  {
   "cell_type": "code",
   "execution_count": null,
   "id": "cab43559",
   "metadata": {},
   "outputs": [],
   "source": []
  },
  {
   "cell_type": "code",
   "execution_count": 1,
   "id": "52ea80b3",
   "metadata": {},
   "outputs": [
    {
     "name": "stdout",
     "output_type": "stream",
     "text": [
      "Defaulting to user installation because normal site-packages is not writeable\n",
      "Requirement already satisfied: railroad-diagrams in /home/raygan/.local/lib/python3.10/site-packages (3.0.1)\n",
      "Note: you may need to restart the kernel to use updated packages.\n"
     ]
    }
   ],
   "source": [
    "### Dependencies\n",
    "%pip install railroad-diagrams"
   ]
  }
 ],
 "metadata": {
  "kernelspec": {
   "display_name": "Python 3 (ipykernel)",
   "language": "python",
   "name": "python3"
  },
  "language_info": {
   "codemirror_mode": {
    "name": "ipython",
    "version": 3
   },
   "file_extension": ".py",
   "mimetype": "text/x-python",
   "name": "python",
   "nbconvert_exporter": "python",
   "pygments_lexer": "ipython3",
   "version": "3.10.12"
  }
 },
 "nbformat": 4,
 "nbformat_minor": 5
}
